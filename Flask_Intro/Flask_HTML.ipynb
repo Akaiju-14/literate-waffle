{
 "cells": [
  {
   "cell_type": "markdown",
   "metadata": {},
   "source": [
    "# Introduction to Flask\n",
    "Flask is a lightweight web framework written in Python. It's designed to make getting started with web development easy, while also being flexible enough to serve as the foundation for large applications."
   ]
  },
  {
   "cell_type": "markdown",
   "metadata": {},
   "source": [
    "## Key features:\n",
    "\n",
    "Minimalistic and easy to get started\n",
    "Extensibility to add more features as your application grows\n",
    "Built-in development server \n",
    "RESTful request dispatching\n",
    "Uses Jinja2 templating"
   ]
  },
  {
   "cell_type": "markdown",
   "metadata": {},
   "source": [
    "# First, we need to install Flask on your working directory\n",
    "pip install Flask"
   ]
  },
  {
   "cell_type": "markdown",
   "metadata": {},
   "source": [
    "HTML cheat sheet . a quick guide\n",
    "https://web.stanford.edu/group/csp/cs21/htmlcheatsheet.pdf\n",
    "\n"
   ]
  },
  {
   "cell_type": "markdown",
   "metadata": {},
   "source": [
    "Laboratory Exercise 4.\n",
    "\n",
    "Follow the instruction on the sample Flask code\n"
   ]
  }
 ],
 "metadata": {
  "language_info": {
   "name": "python"
  }
 },
 "nbformat": 4,
 "nbformat_minor": 2
}
